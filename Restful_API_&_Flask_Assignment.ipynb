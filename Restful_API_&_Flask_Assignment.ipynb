{
  "nbformat": 4,
  "nbformat_minor": 0,
  "metadata": {
    "colab": {
      "provenance": []
    },
    "kernelspec": {
      "name": "python3",
      "display_name": "Python 3"
    },
    "language_info": {
      "name": "python"
    }
  },
  "cells": [
    {
      "cell_type": "markdown",
      "source": [
        "#Restful API & Flask Assignment"
      ],
      "metadata": {
        "id": "C8olalm5XC4b"
      }
    },
    {
      "cell_type": "markdown",
      "source": [
        "###Theory Questions"
      ],
      "metadata": {
        "id": "N3YIS8A-WyIi"
      }
    },
    {
      "cell_type": "markdown",
      "source": [
        "Q1.What is a RESTful API?\n",
        "\n",
        "--> A RESTful API is an API (Application Programming Interface) that follows the principles of REST (Representational State Transfer) — an architectural style for designing networked applications.\n",
        "\n",
        "Key Principles of REST\n",
        "\n",
        "1.Client-Server\n",
        "\n",
        "  Client (frontend) and server (backend) are separate.\n",
        "\n",
        "  Client makes requests, server sends responses.\n",
        "\n",
        "2.Stateless\n",
        "\n",
        "  Each request must contain all necessary info.\n",
        "\n",
        "3.Uniform Interface\n",
        "\n",
        "  Standard way to interact with resources (use URLs + HTTP methods).\n",
        "\n",
        "4.Resources are identified by URLs\n",
        "\n",
        "  Example:\n",
        "\n",
        "    /users → all users\n",
        "\n",
        "    /users/5 → user with ID 5\n",
        "\n",
        "5.Use of HTTP Methods properly\n",
        "\n",
        "  GET → Retrieve data\n",
        "\n",
        "  POST → Create new data\n",
        "\n",
        "  PUT/PATCH → Update data\n",
        "\n",
        "  DELETE → Remove data\n",
        "\n",
        "6.Representation of resources\n",
        "\n",
        "  Resources can be represented as JSON, XML, or HTML (JSON is most common).\n",
        "\n",
        "\n",
        "A RESTful API is a web service that exposes resources via URLs, lets clients interact with them using HTTP methods, and usually exchanges data in JSON.\n"
      ],
      "metadata": {
        "id": "ITLm26OYXXem"
      }
    },
    {
      "cell_type": "markdown",
      "source": [
        "Q2.Explain the concept of API specification.\n",
        "\n",
        "--> An API specification is a formal description of how an API works.\n",
        "It defines the rules, endpoints, request/response formats, authentication methods, and error handling so that developers know exactly how to use (or implement) the API.\n",
        "\n",
        "Think of it as the blueprint / contract between:\n",
        "\n",
        "  API provider (backend) - who build the service\n",
        "\n",
        "  API consumer (frontend/mobile/3rd parties) - who use the service\n",
        "\n",
        "API Specification Importantance:\n",
        "\n",
        "    Ensures clear communication between backend & frontend teams.\n",
        "\n",
        "    Allows automation (tools can generate documentation, client SDKs, and even tests).\n",
        "\n",
        "    Prevents misunderstandings about how to call the API.\n",
        "\n",
        "    Makes onboarding faster for new developers.\n",
        "\n"
      ],
      "metadata": {
        "id": "vure8O0LYvJq"
      }
    },
    {
      "cell_type": "markdown",
      "source": [
        "Q3.What is Flask, and why is it popular for building APIs?\n",
        "\n",
        "--> Flask is a lightweight, open-source Python web framework.\n",
        "It is often called a “micro-framework” because it provides the essentials (routing, request handling, templates, etc.) but leaves many choices (databases, authentication, etc.) up to the developer.\n",
        "\n",
        "Flask gives you just enough tools to build a web app or API, without forcing a big structure.\n",
        "\n",
        "Flask is Popular for Building APIs:\n",
        "\n",
        "1.Simplicity & Flexibility\n",
        "\n",
        "    Very little boilerplate — you can build a working API with just a few lines.\n",
        "\n",
        "2.Lightweight (Micro-framework)\n",
        "\n",
        "    Unlike Django (which is more heavyweight), Flask lets you add only what you need (e.g., SQLAlchemy, Marshmallow, JWT).\n",
        "\n",
        "    Perfect for small APIs and microservices.\n",
        "\n",
        "3.Great for RESTful APIs\n",
        "\n",
        "    Flask has simple support for routes, URL parameters, JSON request/response — everything an API needs.\n",
        "\n",
        "4.Large Ecosystem & Extensions\n",
        "\n",
        "  Add-ons like:\n",
        "\n",
        "    Flask-RESTful / Flask-RESTx → build REST APIs easily\n",
        "\n",
        "    Flask-JWT-Extended → authentication with JWT\n",
        "\n",
        "    Flask-SQLAlchemy → database ORM\n",
        "\n",
        "    Flask-Swagger / OpenAPI → API documentation\n",
        "\n",
        "5.Community & Popularity\n",
        "\n",
        "    Huge community, widely used in industry and teaching.\n",
        "\n",
        "    Tons of tutorials, StackOverflow support, and extensions.\n",
        "\n",
        "6.Easy Learning Curve\n",
        "\n",
        "    Great for beginners learning web development and APIs.\n",
        "\n",
        "    You can start small and scale up as needed.\n",
        "\n",
        "7.Integration Friendly\n",
        "\n",
        "    Works well with machine learning models (TensorFlow, PyTorch, scikit-learn).\n",
        "\n",
        "    Many people use Flask to deploy ML models as APIs.\n",
        "\n",
        "\n"
      ],
      "metadata": {
        "id": "025KHX1MaMO4"
      }
    },
    {
      "cell_type": "markdown",
      "source": [
        "Q4.What is routing in Flask?\n",
        "\n",
        "--> In Flask, routing means mapping a URL (web address) to a function in your Python code.\n",
        "\n",
        "    When a user visits a URL (like /home), Flask decides which function to run based on the route defined.\n",
        "\n",
        "    This function is called a view function and it returns a response (like HTML, JSON, or plain text).\n",
        "\n",
        "How Routing Works in Flask\n",
        "\n",
        "    You define a route using the @app.route() decorator.\n",
        "\n",
        "    Inside, you specify the URL path.\n",
        "\n",
        "    The function linked to that path is executed when the URL is visited.\n",
        "\n",
        "Routing in Flask is how you connect URLs to functions. It allows you to control what happens when someone visits a certain web address.\n"
      ],
      "metadata": {
        "id": "CjhQ5x1FbrAG"
      }
    },
    {
      "cell_type": "markdown",
      "source": [
        "Q5.How do you create a simple Flask application?\n",
        "\n",
        "--> Steps to Create a Simple Flask Application\n",
        "\n",
        "1.Install Flask:\n",
        "\n",
        "pip install flask\n",
        "\n",
        "2.Create a file (e.g., app.py)\n",
        "\n",
        "    from flask import Flask\n",
        "\n",
        "    Create a Flask app instance\n",
        "\n",
        "    app = Flask(__name__)\n",
        "\n",
        "    Define a route (URL) and its view function\n",
        "\n",
        "    @app.route('/')\n",
        "\n",
        "    def home():\n",
        "\n",
        "        return \"Hello, Flask!\"\n",
        "\n",
        "    Run the app\n",
        "\n",
        "    if __name__ == '__main__':\n",
        "\n",
        "        app.run(debug=True)\n",
        "\n",
        "3.Run the Flask app\n",
        "\n",
        "In the terminal, run:\n",
        "python app.py\n",
        "\n",
        "4.Open in browser with link\n",
        "\n",
        "\n"
      ],
      "metadata": {
        "id": "qf2ky7zzcPJZ"
      }
    },
    {
      "cell_type": "markdown",
      "source": [
        "Q6.What are HTTP methods used in RESTful APIs?\n",
        "\n",
        "--> In REST, different HTTP methods are used to represent CRUD operations (Create, Read, Update, Delete)\n",
        "\n",
        "1.GET : Retrieve data (read-only).\n",
        "\n",
        "2.POST : Create new resource.\n",
        "\n",
        "3.PUT : Update/replace a resource (full update).\n",
        "\n",
        "4.PATCH : Partially update a resource.\n",
        "\n",
        "5.DELETE : Remove a resource.\n",
        "\n"
      ],
      "metadata": {
        "id": "C8jC5U4DdwnU"
      }
    },
    {
      "cell_type": "markdown",
      "source": [
        "Q7.What is the purpose of the @app.route() decorator in Flask?\n",
        "\n",
        "--> Purpose of @app.route() in Flask\n",
        "\n",
        "The @app.route() decorator is used to map a URL path to a Python function (called a view function).\n",
        "\n",
        "    When a client (like a browser) visits that URL, Flask runs the associated function and returns the response (HTML, JSON, text, etc.).\n",
        "\n",
        "    Without routes, Flask wouldn’t know which function should handle a given request."
      ],
      "metadata": {
        "id": "4FzeyRYQhQEj"
      }
    },
    {
      "cell_type": "markdown",
      "source": [
        "Q8.What is the difference between GET and POST HTTP methods?\n",
        "\n",
        "Difference Between GET and POST\n",
        "\n",
        "GET\n",
        "\n",
        "1.used to retrieve data from the server\n",
        "\n",
        "2.Data is sent in the URL query string\n",
        "\n",
        "3.Parameters are visible in the URL\n",
        "\n",
        "4.Data size limit is\n",
        "Limited\n",
        "\n",
        "5.Safe & idempotent → Multiple GETs don't change data.\n",
        "\n",
        "GET = request data (read-only, safe, parameters in URL).\n",
        "\n",
        "POST\n",
        "\n",
        "1.Used to send data to the server\n",
        "\n",
        "2.Data is sent in the request body\n",
        "\n",
        "3.Parameters are hidden in the body\n",
        "\n",
        "4.Can send large amounts of data\n",
        "\n",
        "5.Each POST may create a new resource/change state\n",
        "\n",
        "POST = send data (create/update, hidden in body, larger & more secure).\n",
        "\n"
      ],
      "metadata": {
        "id": "0Hewt-Chhl8P"
      }
    },
    {
      "cell_type": "markdown",
      "source": [
        "Q9.How do you handle errors in Flask APIs?\n",
        "\n",
        "--> Ways to Handle Errors in Flask APIs\n",
        "\n",
        "1.Using @app.errorhandler()\n",
        "\n",
        "Flask lets you define custom responses for specific HTTP error codes.\n",
        "\n",
        "2.Using abort()\n",
        "\n",
        "You can trigger an error intentionally with abort().\n",
        "\n",
        "3.Handling Validation Errors\n",
        "\n",
        "Example: If required data is missing in a POST request.\n",
        "\n",
        "4.Global Error Handling with before_request / after_request\n",
        "\n",
        "You can intercept and format all errors in a consistent JSON style.\n",
        "\n",
        "\n",
        "\n",
        "Always return JSON responses instead of HTML.\n",
        "\n",
        "Include meaningful error messages and status codes (400, 404, 401, 500).\n",
        "\n",
        "Use Flask-RESTful or Flask-API extensions for cleaner error handling in larger projects."
      ],
      "metadata": {
        "id": "1qktpOcCkDBM"
      }
    },
    {
      "cell_type": "markdown",
      "source": [
        "Q10.How do you connect Flask to a SQL database?\n",
        "\n",
        "\n",
        "--> Flask on its own doesn't come with a database, but it integrates very well with SQL databases\n",
        "\n",
        "1.Using Flask-SQLAlchemy (Recommended)\n",
        "\n",
        "Flask-SQLAlchemy is an ORM (Object Relational Mapper) that makes database interaction easier.\n",
        "\n",
        "2.Using Raw SQL with sqlite3 (Lightweight)\n",
        "\n",
        "For very simple apps, you can use Python's built-in sqlite3 library.\n",
        "\n"
      ],
      "metadata": {
        "id": "3qRhpLpblHjm"
      }
    },
    {
      "cell_type": "markdown",
      "source": [
        "Q11.What is the role of Flask-SQLAlchemy?\n",
        "\n",
        "--> Flask-SQLAlchemy is an extension for Flask that makes it much easier to work with SQL databases. It provides a high-level abstraction called an ORM (Object Relational Mapper) so that instead of writing raw SQL queries, you can interact with your database using Python classes and objects.\n",
        "\n",
        "Key Roles of Flask-SQLAlchemy\n",
        "\n",
        "1.Database Connection Management\n",
        "\n",
        "It handles connecting your Flask app to different SQL databases (SQLite, MySQL, PostgreSQL, etc.) using a simple config.\n",
        "\n",
        "2.Defines Models as Python Classes\n",
        "\n",
        "Each class represents a table, and each attribute represents a column.\n",
        "\n",
        "3.Simplifies CRUD Operations\n",
        "\n",
        "4.Querying Made Easy\n",
        "\n",
        "5.Database Schema Management\n",
        "\n",
        "6.Supports Relationships\n",
        "\n",
        "Easy definition of relationships between tables\n",
        "\n",
        "\n",
        "Flask-SQLAlchemy is the bridge between Flask and SQL databases, letting you use Python code instead of raw SQL for database operations."
      ],
      "metadata": {
        "id": "7erVe9p0mkIu"
      }
    },
    {
      "cell_type": "markdown",
      "source": [
        "Q12.What are Flask blueprints, and how are they useful?\n",
        "\n",
        "--> A Blueprint in Flask is like a mini-application inside your Flask project.\n",
        "\n",
        "It lets you organize routes, templates, static files, and other code into reusable modules, instead of putting everything into a single app.py file.\n",
        "\n",
        "Think of a Blueprint as a collection of related views and logic that can be registered on the main Flask app.\n",
        "\n",
        "Blueprints useful:\n",
        "\n",
        "1.Better Organization\n",
        "\n",
        "Instead of one giant file, you can split your app into multiple files (e.g., auth.py, blog.py).\n",
        "\n",
        "2.Reusability\n",
        "\n",
        "A Blueprint can be reused across projects (for example, an auth Blueprint for login/signup).\n",
        "\n",
        "3.Scalability\n",
        "\n",
        "Makes it easy to maintain and scale large applications by grouping functionality.\n",
        "\n",
        "4.Team Collaboration\n",
        "\n",
        "Different developers can work on different Blueprints independently.\n",
        "\n",
        "\n",
        "Blueprints = modular, reusable pieces of a Flask app\n",
        "\n",
        "Useful for: organization, reusability, scalability, and teamwork"
      ],
      "metadata": {
        "id": "cFd_a7kyni69"
      }
    },
    {
      "cell_type": "markdown",
      "source": [
        "Q13.What is the purpose of Flask's request object?\n",
        "\n",
        "--> Purpose of Flask's request object\n",
        "\n",
        "The request object in Flask (from flask import request) is a global object that represents the current incoming HTTP request.\n",
        "\n",
        "It lets you access data sent by the client (browser, API client, etc.) such as:\n",
        "\n",
        "    Form inputs (from HTML forms)\n",
        "\n",
        "    JSON data (from API requests)\n",
        "\n",
        "    Query parameters (from URLs like ?id=10)\n",
        "\n",
        "    Request headers (like cookies, auth tokens, user-agent)\n",
        "\n",
        "    HTTP method (GET, POST, etc.)\n",
        "\n",
        "\n"
      ],
      "metadata": {
        "id": "2bb6OUFvpB4e"
      }
    },
    {
      "cell_type": "markdown",
      "source": [
        "Q14.How do you create a RESTful API endpoint using Flask?\n",
        "\n",
        "--> Steps to Create a RESTful API Endpoint in Flask\n",
        "\n",
        "1.Install Flask\n",
        "\n",
        "pip install flask\n",
        "\n",
        "2.Import Flask & JSON utilities\n",
        "\n",
        "from flask import Flask, request, jsonify\n",
        "\n",
        "3.Create Flask app\n",
        "\n",
        "app = Flask(__name__)\n",
        "\n",
        "4.Define RESTful API endpoints\n",
        "\n",
        "Use HTTP methods (GET, POST, PUT, DELETE) to follow REST conventions."
      ],
      "metadata": {
        "id": "4wLhW6x3pdu8"
      }
    },
    {
      "cell_type": "markdown",
      "source": [
        "Q15.What is the purpose of Flask's jsonify() function?\n",
        "\n",
        "--> Purpose of Flask's jsonify() function\n",
        "\n",
        "The jsonify() function is used to convert Python objects into JSON responses and send them to the client with the correct Content-Type header (application/json).\n",
        "\n",
        "It ensures your API returns properly formatted JSON instead of raw Python dictionaries.\n",
        "\n",
        "\n",
        "jsonify() = Converts Python objects → JSON response"
      ],
      "metadata": {
        "id": "rvYzoY-jp93o"
      }
    },
    {
      "cell_type": "markdown",
      "source": [
        "Q16.Explain Flask's url_for() function?\n",
        "\n",
        "--> The url_for() function is used to generate URLs for routes dynamically in Flask.\n",
        "Instead of hardcoding URLs as strings (\"/about\"), you use the function name of the view — Flask will build the correct URL for you.\n",
        "\n",
        "This makes your app more flexible:\n",
        "\n",
        "    If you change the route path later, you don't need to update links everywhere.\n",
        "\n",
        "    It avoids mistakes with hardcoded URLs."
      ],
      "metadata": {
        "id": "8r_ejMi4qVCN"
      }
    },
    {
      "cell_type": "markdown",
      "source": [
        "Q17.How does Flask handle static files (CSS, JavaScript, etc.)?\n",
        "\n",
        "-->\n",
        "1.By default, Flask looks for a folder called static/ in your project directory.\n",
        "\n",
        "2.Any file inside this folder can be served directly via the special route:\n",
        "\n",
        "/static/<filename>\n",
        "\n",
        "3.You can access static files in templates using url_for('static', filename='...').\n",
        "\n",
        "In short:\n",
        "\n",
        "Flask serves files from the static/ folder automatically.\n",
        "\n",
        "Use url_for('static', filename='file') inside templates to link them.\n",
        "\n",
        "You can directly access them via /static/<filename>."
      ],
      "metadata": {
        "id": "oluDvxlKH1iG"
      }
    },
    {
      "cell_type": "markdown",
      "source": [
        "Q18.What is an API specification, and how does it help in building a Flask API?\n",
        "\n",
        "--> API Specification\n",
        "\n",
        "An API specification is a detailed document (or file) that describes how an API works.\n",
        "It defines:\n",
        "\n",
        "    Endpoints (URLs)\n",
        "\n",
        "    HTTP methods (GET, POST, PUT, DELETE, etc.)\n",
        "\n",
        "    Request parameters (query, path, headers, body)\n",
        "\n",
        "    Response formats (JSON, XML, etc.)\n",
        "\n",
        "    Error codes (e.g., 400 Bad Request, 404 Not Found)\n",
        "\n",
        "Think of it as a blueprint/contract between the API provider (your Flask app) and the clients.\n",
        "\n",
        "How It Helps with Flask\n",
        "\n",
        "With this spec, you can:\n",
        "\n",
        "Use Flask-RESTful or Flask-Smorest to build endpoints that match it.\n",
        "\n",
        "Generate interactive docs (Swagger UI / ReDoc).\n",
        "\n",
        "Ensure frontend and backend are in sync.\n",
        "\n"
      ],
      "metadata": {
        "id": "Ki8Dg3iWHGZh"
      }
    },
    {
      "cell_type": "markdown",
      "source": [
        "Q19.What are HTTP status codes, and why are they important in a Flask API?\n",
        "\n",
        "--> HTTP status codes are 3-digit numbers returned by a server in response to a client's request.\n",
        "\n",
        "They indicate whether the request was successful, failed, or requires further action.\n",
        "\n",
        "They are grouped into categories:\n",
        "\n",
        "    1xx – Informational (e.g., 100 Continue)\n",
        "\n",
        "    2xx – Success (e.g., 200 OK, 201 Created)\n",
        "\n",
        "    3xx – Redirection (e.g., 301 Moved Permanently)\n",
        "\n",
        "    4xx – Client Errors (e.g., 400 Bad Request, 404 Not Found)\n",
        "\n",
        "    5xx – Server Errors (e.g., 500 Internal Server Error)\n",
        "\n",
        "Why are They Important in Flask APIs:\n",
        "\n",
        "In a Flask API, status codes are important because they:\n",
        "\n",
        "1.Tell the client what happened\n",
        "\n",
        "  Example: Was the request successful? Did the client send wrong data? Did the server fail?\n",
        "\n",
        "2.Enable proper error handling\n",
        "\n",
        "  Frontend apps (or other clients) can react differently depending on the code.\n",
        "\n",
        "3.Improve debugging\n",
        "\n",
        "  Developers can quickly spot if a failure is due to client-side mistakes (4xx) or server issues (5xx).\n",
        "\n",
        "4.Follow REST best practices\n",
        "\n",
        "  RESTful APIs rely heavily on status codes to make APIs predictable and easy to use."
      ],
      "metadata": {
        "id": "wE2Nlr_xKNTt"
      }
    },
    {
      "cell_type": "markdown",
      "source": [
        "Q20.How do you handle POST requests in Flask?\n",
        "\n",
        "--> POST is an HTTP method used to send data to the server.\n",
        "\n",
        "Common use cases:\n",
        "\n",
        "    Creating new resources (e.g., a new user)\n",
        "\n",
        "    Submitting forms\n",
        "\n",
        "    Uploading files\n",
        "\n"
      ],
      "metadata": {
        "id": "fdB28IIqL6TJ"
      }
    },
    {
      "cell_type": "code",
      "source": [
        "#Handling POST requests in Flask\n",
        "\n",
        "from flask import Flask, request, jsonify\n",
        "\n",
        "app = Flask(__name__)\n",
        "\n",
        "# POST with form data\n",
        "@app.route('/submit', methods=['POST'])\n",
        "def submit():\n",
        "    data = request.form   # For form data\n",
        "    return jsonify(data.to_dict())\n",
        "\n",
        "# POST with JSON data\n",
        "@app.route('/json', methods=['POST'])\n",
        "def json_submit():\n",
        "    data = request.get_json()   # For JSON\n",
        "    return jsonify(data)\n",
        "\n",
        "if __name__ == '__main__':\n",
        "    app.run(debug=True)"
      ],
      "metadata": {
        "id": "1-a3Z00ZMmc1"
      },
      "execution_count": null,
      "outputs": []
    },
    {
      "cell_type": "markdown",
      "source": [
        "Q21.How would you secure a Flask API?\n",
        "\n",
        "--> Securing a Flask API is very important because APIs often expose sensitive data or allow actions like user registration, payments, etc.\n",
        "\n",
        "Here are the main ways to secure a Flask API:\n",
        "\n",
        "1.Use HTTPS\n",
        "\n",
        "    Always run your API over HTTPS (not plain HTTP).\n",
        "\n",
        "    Ensures data is encrypted between client and server.\n",
        "\n",
        "    In production, use a reverse proxy like Nginx with an SSL certificate (e.g., Let’s Encrypt).\n",
        "\n",
        "2.Authentication & Authorization\n",
        "\n",
        "  Protect endpoints so only authorized users can access them.\n",
        "\n",
        "  Common methods:\n",
        "\n",
        "    API Keys → simple, but less secure.\n",
        "\n",
        "    Token-based auth (JWT – JSON Web Token) → widely used.\n",
        "\n",
        "    OAuth2 → for third-party integrations (e.g., Google login).\n",
        "\n",
        "3.Validate and Sanitize Input\n",
        "\n",
        "  Prevent attacks like SQL injection or XSS.\n",
        "\n",
        "  Always validate POST data (request.get_json() or request.form).\n",
        "\n",
        "  Use libraries like Marshmallow or Flask-WTF for validation.\n",
        "\n",
        "4.Rate Limiting\n",
        "\n",
        "  Prevent DoS attacks by limiting requests per user/IP.\n",
        "\n",
        "5.CORS (Cross-Origin Resource Sharing)\n",
        "\n",
        "  If your API is accessed from a frontend app, control who can call it.\n",
        "\n",
        "6.Error Handling & Hiding Stack Traces\n",
        "\n",
        "  Don't expose detailed errors to clients (attackers could exploit them).\n",
        "\n",
        "  Use custom error handlers with generic messages.\n",
        "\n",
        "7.Secure Secrets & Config\n",
        "\n",
        "  Store API keys, DB credentials, SECRET_KEY in environment variables, not code.\n",
        "\n",
        "  Use python-dotenv or system environment variables.\n",
        "\n",
        "  "
      ],
      "metadata": {
        "id": "GqGA6NUDMuMg"
      }
    },
    {
      "cell_type": "markdown",
      "source": [
        "Q22.What is the significance of the Flask-RESTful extension?\n",
        "\n",
        "--> The Flask-RESTful extension is widely used when building RESTful APIs with Flask. Instead of writing everything manually with routes and request handling, it provides a higher-level abstraction that makes building APIs faster, cleaner, and more maintainable.\n",
        "\n",
        "Significance of Flask-RESTful:\n",
        "\n",
        "1.Class-Based Resources\n",
        "\n",
        "  Normally in Flask, you write functions for routes.\n",
        "\n",
        "  With Flask-RESTful, you define resources as classes.\n",
        "\n",
        "  Each HTTP method (GET, POST, PUT, DELETE) becomes a method of the class.\n",
        "\n",
        "2.Automatic Routing\n",
        "\n",
        "  No need to write multiple @app.route() decorators.\n",
        "\n",
        "  Just use api.add_resource() to map a class to a URL.\n",
        "\n",
        "3.Built-in Request Parsing\n",
        "\n",
        "  Provides reqparse for handling and validating request data.\n",
        "\n",
        "4.Automatic JSON Responses\n",
        "\n",
        "  Flask-RESTful automatically converts dictionaries into JSON responses.\n",
        "\n",
        "5.Error Handling\n",
        "\n",
        "  Provides simple ways to return HTTP status codes and error messages.\n",
        "\n",
        "6.Scalability\n",
        "\n",
        "  Encourages an organized, modular structure for large APIs.\n",
        "\n",
        "  Each resource is defined separately, making it easy to maintain."
      ],
      "metadata": {
        "id": "AZeTgB7oOEG1"
      }
    },
    {
      "cell_type": "markdown",
      "source": [
        "Q23.What is the role of Flask's session object?\n",
        "\n",
        "--> The session object in Flask plays a key role in handling user sessions — that is, storing data across multiple requests from the same user.\n",
        "\n",
        "Role of Flask's session object:\n",
        "\n",
        "1.Stores User-Specific Data\n",
        "\n",
        "  Each user interacting with your Flask app gets a unique session.\n",
        "\n",
        "  You can store things like login state, shopping cart items, preferences, etc.\n",
        "\n",
        "2.Persists Across Requests\n",
        "\n",
        "Unlike request, which is per-request only, session data stays available until the user logs out, session expires, or the browser is closed.\n",
        "\n",
        "3.Implemented Using Secure Cookies\n",
        "\n",
        "  By default, Flask stores the session data in a signed cookie on the client's browser.\n",
        "\n",
        "  It is cryptographically signed using SECRET_KEY so the user can't tamper with it.\n",
        "\n",
        "4.Used for Authentication\n",
        "\n",
        "  Commonly used to keep users logged in after they authenticate.\n",
        "\n",
        "5.Temporary Storage\n",
        "\n",
        "Sessions are cleared automatically when the browser closes (unless configured otherwise).\n",
        "\n"
      ],
      "metadata": {
        "id": "K1kEYC-cR6oc"
      }
    },
    {
      "cell_type": "markdown",
      "source": [
        "###Practical"
      ],
      "metadata": {
        "id": "ehPT3pWqXGgK"
      }
    },
    {
      "cell_type": "markdown",
      "source": [
        "1.How do you create a basic Flask application?"
      ],
      "metadata": {
        "id": "tvI6iYDfXJL9"
      }
    },
    {
      "cell_type": "code",
      "execution_count": null,
      "metadata": {
        "id": "WiLy6KwfXFH6"
      },
      "outputs": [],
      "source": [
        "# first create new directory for project then to create and activate\n",
        "# virtual envirnoment to manage dependencies\n",
        "python -m venv myvenv\n",
        "myvenv\\Scripts\\activate\n",
        "#install flask\n",
        "pip install Flask\n",
        "#inside project directory create a python file app.py\n",
        "#add below code\n",
        "from flask import Flask\n",
        "\n",
        "app = flask(__name__)\n",
        "\n",
        "@app.route('/')\n",
        "def hello():\n",
        "  return 'Hello World!'\n",
        "\n",
        "if __name__ == '__main__':\n",
        "  app.run(debuh = True)\n",
        "\n",
        "#in terminal or command prompt write command to run\n",
        "python app.py"
      ]
    },
    {
      "cell_type": "markdown",
      "source": [
        "2.How do you serve static files like images or CSS in Flask?\n"
      ],
      "metadata": {
        "id": "sQjZPAPMmGqQ"
      }
    },
    {
      "cell_type": "code",
      "source": [
        "\n",
        "#Default static folder\n",
        "\n",
        "#Accessing static file\n",
        "<!DOCTYPE html>\n",
        "<html>\n",
        "<head>\n",
        "    <title>Flask Static Example</title>\n",
        "    <!-- CSS file -->\n",
        "    <link rel=\"stylesheet\" href=\"{{ url_for('static', filename='style.css') }}\">\n",
        "</head>\n",
        "<body>\n",
        "    <h1>Hello Flask</h1>\n",
        "    <!-- Image -->\n",
        "    <img src=\"{{ url_for('static', filename='images/logo.png') }}\" alt=\"Logo\">\n",
        "    <!-- JavaScript file -->\n",
        "    <script src=\"{{ url_for('static', filename='script.js') }}\"></script>\n",
        "</body>\n",
        "</html>\n",
        "\n",
        "#flaskautomatically serves files\n",
        "#custom static folder\n",
        "\n",
        "from flask import Flask, render_template\n",
        "\n",
        "app = Flask(__name__, static_folder='assets')\n",
        "\n",
        "@app.route('/')\n",
        "def home():\n",
        "    return render_template(\"index.html\")\n",
        "\n",
        "if __name__ == '__main__':\n",
        "    app.run(debug=True)\n"
      ],
      "metadata": {
        "id": "rHSrS1vSmmiF"
      },
      "execution_count": null,
      "outputs": []
    },
    {
      "cell_type": "markdown",
      "source": [
        "3.How do you define different routes with different HTTP methods in Flask?"
      ],
      "metadata": {
        "id": "lwU-3v4PoVRz"
      }
    },
    {
      "cell_type": "code",
      "source": [
        "#Use one function for multiple methods\n",
        "\n",
        "from flask import Flask, request\n",
        "app = Flask(__name__)\n",
        "\n",
        "@app.route('/user', methods=['GET', 'POST'])\n",
        "def user():\n",
        "    if request.method == 'GET':\n",
        "        return \"GET request - Fetching user info\"\n",
        "    elif request.method == 'POST':\n",
        "        return \"POST request - Creating a new user\"\n",
        "\n",
        "#use separate functions for the same route with different methods\n",
        "\n",
        "@app.route('/user', methods=['GET'])\n",
        "def get_user():\n",
        "    return \"GET - Fetching user info\"\n",
        "\n",
        "@app.route('/user', methods=['POST'])\n",
        "def create_user():\n",
        "    return \"POST - Creating user\"\n",
        "\n"
      ],
      "metadata": {
        "id": "oX2CGIZmtWcp"
      },
      "execution_count": null,
      "outputs": []
    },
    {
      "cell_type": "markdown",
      "source": [
        "4.How do you render HTML templates in Flask?"
      ],
      "metadata": {
        "id": "Z7eEy2bmvFbl"
      }
    },
    {
      "cell_type": "code",
      "source": [
        "#create folder name templates inside it create file name index.html\n",
        "<html lang=\"en\">\n",
        "<head>\n",
        "    <meta charset=\"UTF-8\">\n",
        "    <title>{{ title }}</title>\n",
        "</head>\n",
        "<body>\n",
        "    <h1>{{ heading }}</h1>\n",
        "    <p>This is a list of items:</p>\n",
        "    <ul>\n",
        "        {% for item in items %}\n",
        "            <li>{{ item }}</li>\n",
        "        {% endfor %}\n",
        "    </ul>\n",
        "</body>\n",
        "</html>\n",
        "\n",
        "#in app.py import render_template\n",
        "\n",
        "from flask import Flask, render_template\n",
        "\n",
        "app = Flask(__name__)\n",
        "\n",
        "@app.route('/')\n",
        "def home():\n",
        "    # Define some dynamic data\n",
        "    page_title = \"My Flask App\"\n",
        "    main_heading = \"Welcome to the Homepage\"\n",
        "    items_list = [\"apple\", \"banana\", \"cherry\"]\n",
        "\n",
        "    return render_template(\n",
        "        'index.html',\n",
        "        title=page_title,\n",
        "        heading=main_heading,\n",
        "        items=items_list\n",
        "    )\n",
        "\n",
        "if __name__ == '__main__':\n",
        "    app.run(debug=True)\n"
      ],
      "metadata": {
        "id": "Z-O7aquDvSNA"
      },
      "execution_count": null,
      "outputs": []
    },
    {
      "cell_type": "markdown",
      "source": [
        "5.How can you generate URLs for routes in Flask using url_for?"
      ],
      "metadata": {
        "id": "q35xDOWKz-I1"
      }
    },
    {
      "cell_type": "code",
      "source": [
        "from flask import Flask, url_for, render_template_string\n",
        "\n",
        "app = Flask(__name__)\n",
        "\n",
        "@app.route('/')\n",
        "def home():\n",
        "    return 'Welcome to Home Page!'\n",
        "\n",
        "@app.route('/about')\n",
        "def about():\n",
        "    return 'This is About Page'\n",
        "\n",
        "@app.route('/profile/<username>')\n",
        "def profile(username):\n",
        "    return f\"Profile page of {username}\"\n",
        "\n",
        "@app.route('/links')\n",
        "def links():\n",
        "    # Generate URLs using url_for\n",
        "    home_url = url_for('home')\n",
        "    about_url = url_for('about')\n",
        "    profile_url = url_for('profile', username=\"pratiksha\")\n",
        "\n",
        "    return render_template_string(\"\"\"\n",
        "        <h1>Links</h1>\n",
        "        <ul>\n",
        "            <li><a href=\"{{ home_url }}\">Home</a></li>\n",
        "            <li><a href=\"{{ about_url }}\">About</a></li>\n",
        "            <li><a href=\"{{ profile_url }}\">Profile</a></li>\n",
        "        </ul>\n",
        "    \"\"\", home_url=home_url, about_url=about_url, profile_url=profile_url)\n",
        "\n",
        "if __name__ == \"__main__\":\n",
        "    app.run(debug=True)\n"
      ],
      "metadata": {
        "id": "sM6QhCnq0Fre"
      },
      "execution_count": null,
      "outputs": []
    },
    {
      "cell_type": "markdown",
      "source": [
        "6.How do you handle forms in Flask?"
      ],
      "metadata": {
        "id": "mXLmwAVS1BLo"
      }
    },
    {
      "cell_type": "code",
      "source": [
        "from flask import Flask, request, render_template\n",
        "\n",
        "app = Flask(__name__)\n",
        "\n",
        "@app.route('/form')\n",
        "def form():\n",
        "    return render_template('form.html')  # HTML with <form method=\"POST\">\n",
        "\n",
        "@app.route('/submit', methods=['POST'])\n",
        "def submit():\n",
        "    name = request.form['name']   # get form field by name\n",
        "    return f\"Hello, {name}!\"\n",
        ""
      ],
      "metadata": {
        "id": "0MCeSCLO1IU8"
      },
      "execution_count": null,
      "outputs": []
    },
    {
      "cell_type": "markdown",
      "source": [
        "7.How can you validate form data in Flask?"
      ],
      "metadata": {
        "id": "xuoiAjIH3Pdz"
      }
    },
    {
      "cell_type": "code",
      "source": [
        "from flask import Flask, render_template, request, flash, redirect, url_for\n",
        "\n",
        "app = Flask(__name__)\n",
        "app.secret_key = \"supersecretkey\"   # Needed for flash messages\n",
        "\n",
        "@app.route('/register', methods=['GET', 'POST'])\n",
        "def register():\n",
        "    if request.method == 'POST':\n",
        "        name = request.form.get('name')\n",
        "        email = request.form.get('email')\n",
        "\n",
        "        # Simple validation\n",
        "        if not name or not email:\n",
        "            flash(\"All fields are required!\", \"error\")\n",
        "            return redirect(url_for('register'))\n",
        "\n",
        "        if \"@\" not in email:\n",
        "            flash(\"Invalid email address!\", \"error\")\n",
        "            return redirect(url_for('register'))\n",
        "\n",
        "        flash(\"Registration successful!\", \"success\")\n",
        "        return redirect(url_for('register'))\n",
        "\n",
        "    return render_template('register.html')\n",
        "\n",
        "\n",
        "#html\n",
        "\n",
        "<!DOCTYPE html>\n",
        "<html>\n",
        "<head><title>Register</title></head>\n",
        "<body>\n",
        "    <h2>Register</h2>\n",
        "    <form method=\"POST\">\n",
        "        Name: <input type=\"text\" name=\"name\"><br><br>\n",
        "        Email: <input type=\"text\" name=\"email\"><br><br>\n",
        "        <input type=\"submit\" value=\"Register\">\n",
        "    </form>\n",
        "\n",
        "    <!-- Display flash messages -->\n",
        "    {% with messages = get_flashed_messages(with_categories=true) %}\n",
        "        {% if messages %}\n",
        "            <ul>\n",
        "            {% for category, message in messages %}\n",
        "                <li style=\"color: {% if category=='error' %}red{% else %}green{% endif %};\">\n",
        "                    {{ message }}\n",
        "                </li>\n",
        "            {% endfor %}\n",
        "            </ul>\n",
        "        {% endif %}\n",
        "    {% endwith %}\n",
        "</body>\n",
        "</html>\n",
        "\n"
      ],
      "metadata": {
        "id": "sswedLbQ3cRe"
      },
      "execution_count": null,
      "outputs": []
    },
    {
      "cell_type": "markdown",
      "source": [
        "8.How do you manage sessions in Flask?"
      ],
      "metadata": {
        "id": "gYJz8_sz42-B"
      }
    },
    {
      "cell_type": "code",
      "source": [
        "from flask import Flask, session, redirect, url_for, request\n",
        "\n",
        "app = Flask(__name__)\n",
        "app.secret_key = \"supersecretkey\"  # Required for session security\n",
        "\n",
        "@app.route('/')\n",
        "def home():\n",
        "    if \"username\" in session:\n",
        "        return f\"Welcome {session['username']}! <br><a href='/logout'>Logout</a>\"\n",
        "    return \"You are not logged in. <a href='/login'>Login here</a>\"\n",
        "\n",
        "@app.route('/login', methods=['GET', 'POST'])\n",
        "def login():\n",
        "    if request.method == \"POST\":\n",
        "        session[\"username\"] = request.form[\"username\"]\n",
        "        return redirect(url_for(\"home\"))\n",
        "    return '''\n",
        "        <form method=\"post\">\n",
        "            <input type=\"text\" name=\"username\" placeholder=\"Enter username\">\n",
        "            <input type=\"submit\" value=\"Login\">\n",
        "        </form>\n",
        "    '''\n",
        "\n",
        "@app.route('/logout')\n",
        "def logout():\n",
        "    session.pop(\"username\", None)  # remove username from session\n",
        "    return redirect(url_for(\"home\"))\n",
        "\n",
        "if __name__ == \"__main__\":\n",
        "    app.run(debug=True)\n",
        "\n",
        "\n",
        "\n"
      ],
      "metadata": {
        "id": "2sVgHWSM5Sog"
      },
      "execution_count": null,
      "outputs": []
    },
    {
      "cell_type": "markdown",
      "source": [
        "9.How do you redirect to a different route in Flask?"
      ],
      "metadata": {
        "id": "tBoxc86H5dri"
      }
    },
    {
      "cell_type": "code",
      "source": [
        "from flask import Flask, redirect\n",
        "\n",
        "app = Flask(__name__)\n",
        "\n",
        "@app.route('/')\n",
        "def index():\n",
        "    return \"This is the home page.\"\n",
        "\n",
        "@app.route('/go-to-home')\n",
        "def go_to_home():\n",
        "    # Directly redirect to the route path\n",
        "    return redirect(\"/\")\n",
        "\n",
        "if __name__ == \"__main__\":\n",
        "    app.run(debug=True)\n"
      ],
      "metadata": {
        "id": "dpM068FA5in8"
      },
      "execution_count": null,
      "outputs": []
    },
    {
      "cell_type": "markdown",
      "source": [
        "10.How do you handle errors in Flask (e.g., 404)?"
      ],
      "metadata": {
        "id": "rYF3f7aO6t6Y"
      }
    },
    {
      "cell_type": "code",
      "source": [
        "from flask import Flask, render_template\n",
        "\n",
        "app = Flask(__name__)\n",
        "\n",
        "@app.route('/')\n",
        "def home():\n",
        "    return \"Welcome to Flask!\"\n",
        "\n",
        "# Custom 404 page\n",
        "@app.errorhandler(404)\n",
        "def page_not_found(error):\n",
        "    return render_template(\"404.html\"), 404\n",
        "\n",
        "# Custom 500 page\n",
        "@app.errorhandler(500)\n",
        "def internal_error(error):\n",
        "    return render_template(\"500.html\"), 500\n",
        "\n",
        "if __name__ == \"__main__\":\n",
        "    app.run(debug=True)\n",
        "\n",
        "#html\n",
        "<!DOCTYPE html>\n",
        "<html>\n",
        "<head><title>Page Not Found</title></head>\n",
        "<body>\n",
        "    <h1>404 - Oops! Page not found.</h1>\n",
        "    <p>The page you are looking for does not exist.</p>\n",
        "    <a href=\"/\">Go Home</a>\n",
        "</body>\n",
        "</html>\n"
      ],
      "metadata": {
        "id": "0t3l9HNf609a"
      },
      "execution_count": null,
      "outputs": []
    },
    {
      "cell_type": "markdown",
      "source": [
        "11.How do you structure a Flask app using Blueprints?"
      ],
      "metadata": {
        "id": "y7O628sE7Yml"
      }
    },
    {
      "cell_type": "code",
      "source": [
        "from flask import Blueprint, render_template\n",
        "\n",
        "blog_bp = Blueprint(\"blog\", __name__, url_prefix=\"/blog\", template_folder=\"templates\")\n",
        "\n",
        "@blog_bp.route(\"/\")\n",
        "def blog_home():\n",
        "    return render_template(\"blog_home.html\")\n"
      ],
      "metadata": {
        "id": "tZbma9wP7heB"
      },
      "execution_count": null,
      "outputs": []
    },
    {
      "cell_type": "markdown",
      "source": [
        "12.How do you define a custom Jinja filter in Flask?"
      ],
      "metadata": {
        "id": "7EDXvDwv8jHg"
      }
    },
    {
      "cell_type": "code",
      "source": [
        "from flask import Flask, render_template_string\n",
        "\n",
        "app = Flask(__name__)\n",
        "\n",
        "# Define custom filter\n",
        "@app.template_filter('reverse')\n",
        "def reverse_filter(s):\n",
        "    return s[::-1]\n",
        "\n",
        "@app.route('/')\n",
        "def home():\n",
        "    text = \"Flask\"\n",
        "    return render_template_string(\n",
        "        \"<h1>Original: {{ text }}</h1>\"\n",
        "        \"<h2>Reversed: {{ text|reverse }}</h2>\",\n",
        "        text=text\n",
        "    )\n",
        "\n",
        "if __name__ == \"__main__\":\n",
        "    app.run(debug=True)\n"
      ],
      "metadata": {
        "id": "Q7pZG7fe8ogS"
      },
      "execution_count": null,
      "outputs": []
    },
    {
      "cell_type": "markdown",
      "source": [
        "13.How can you redirect with query parameters in Flask"
      ],
      "metadata": {
        "id": "q_3YiIKS83S3"
      }
    },
    {
      "cell_type": "code",
      "source": [
        "from flask import Flask, redirect, request\n",
        "\n",
        "app = Flask(__name__)\n",
        "\n",
        "@app.route('/')\n",
        "def home():\n",
        "    return \"Home Page\"\n",
        "\n",
        "@app.route('/search')\n",
        "def search():\n",
        "    query = request.args.get(\"q\", \"\")\n",
        "    return f\"Search results for: {query}\"\n",
        "\n",
        "@app.route('/go-to-search')\n",
        "def go_to_search():\n",
        "    # Manually construct the URL with query parameters\n",
        "    return redirect(\"/search?q=flask+tutorial\")\n",
        "\n",
        "if __name__ == \"__main__\":\n",
        "    app.run(debug=True)\n"
      ],
      "metadata": {
        "id": "T6pYSdFP9RQm"
      },
      "execution_count": null,
      "outputs": []
    },
    {
      "cell_type": "markdown",
      "source": [
        "14.How do you return JSON responses in Flask?"
      ],
      "metadata": {
        "id": "QFuLYykH9SVe"
      }
    },
    {
      "cell_type": "code",
      "source": [
        "from flask import Flask, jsonify\n",
        "\n",
        "app = Flask(__name__)\n",
        "\n",
        "@app.route('/api/data')\n",
        "def get_data():\n",
        "    return jsonify({\n",
        "        \"name\": \"Pratiksha\",\n",
        "        \"age\": 22,\n",
        "        \"skills\": [\"Python\", \"Flask\", \"Data Science\"]\n",
        "    })\n",
        "\n",
        "if __name__ == \"__main__\":\n",
        "    app.run(debug=True)\n"
      ],
      "metadata": {
        "id": "Kaf9G3HD9hOd"
      },
      "execution_count": null,
      "outputs": []
    },
    {
      "cell_type": "markdown",
      "source": [
        "15.How do you capture URL parameters in Flask?"
      ],
      "metadata": {
        "id": "lpPueMG59igP"
      }
    },
    {
      "cell_type": "code",
      "source": [
        "from flask import Flask\n",
        "\n",
        "app = Flask(__name__)\n",
        "\n",
        "@app.route('/user/<username>')\n",
        "def show_user(username):\n",
        "    return f\"Hello, {username}!\"\n",
        "\n",
        "\n",
        "if __name__ == \"__main__\":\n",
        "    app.run(debug=True)\n"
      ],
      "metadata": {
        "id": "4sGpUs2w9oWr"
      },
      "execution_count": null,
      "outputs": []
    }
  ]
}